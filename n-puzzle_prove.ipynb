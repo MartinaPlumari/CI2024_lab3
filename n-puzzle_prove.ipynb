{
 "cells": [
  {
   "cell_type": "code",
   "execution_count": 248,
   "metadata": {},
   "outputs": [],
   "source": [
    "from collections import namedtuple\n",
    "from random import choice\n",
    "from tqdm.auto import tqdm\n",
    "import numpy as np\n",
    "from dataclasses import dataclass"
   ]
  },
  {
   "cell_type": "code",
   "execution_count": 249,
   "metadata": {},
   "outputs": [
    {
     "name": "stdout",
     "output_type": "stream",
     "text": [
      "[1 2 3 4 5 6 7 8 0]\n"
     ]
    }
   ],
   "source": [
    "#initial settings\n",
    "PUZZLE_DIM = 3\n",
    "#action = namedtuple('Action', ['pos1', 'pos2'])\n",
    "SOLUTION = np.array([n+1 for n in range(PUZZLE_DIM*PUZZLE_DIM)])\n",
    "SOLUTION[-1] = 0\n",
    "puzzle = SOLUTION[:]\n",
    "print(SOLUTION)"
   ]
  },
  {
   "cell_type": "code",
   "execution_count": 250,
   "metadata": {},
   "outputs": [],
   "source": [
    "#utility functions and structures\n",
    "\n",
    "#action class\n",
    "\n",
    "@dataclass\n",
    "class State:\n",
    "    board: np.array\n",
    "    gn: int = 0\n",
    "    fn: int = 0\n",
    "    \n",
    "@dataclass\n",
    "class Action:\n",
    "    x1: int\n",
    "    y1: int\n",
    "    x2: int\n",
    "    y2: int\n",
    "    #gn: int = 0\n",
    "    #fn: int = 0\n",
    "\n",
    "def print_board(state: State):\n",
    "    state = state.board\n",
    "    matrix = np.resize(state, (PUZZLE_DIM, PUZZLE_DIM))\n",
    "    print(matrix)"
   ]
  },
  {
   "cell_type": "code",
   "execution_count": 251,
   "metadata": {},
   "outputs": [],
   "source": [
    "def available_actions(state: State) -> list['Action']:\n",
    "    #find the empty tile\n",
    "    board = state.board\n",
    "    board = np.resize(board, (PUZZLE_DIM, PUZZLE_DIM))\n",
    "    ii = np.where(board == 0)\n",
    "    x= ii[0][0]\n",
    "    y= ii[1][0]\n",
    "    #print(x,y)\n",
    "    #print_board (state)\n",
    "    actions = list()\n",
    "    if x > 0:\n",
    "        actions.append(Action(x, y, x - 1, y))\n",
    "    if x < PUZZLE_DIM - 1:\n",
    "        actions.append(Action(x, y, x + 1, y))\n",
    "    if y > 0:\n",
    "        actions.append(Action(x, y, x, y - 1))\n",
    "    if y < PUZZLE_DIM - 1:\n",
    "        actions.append(Action(x, y, x, y + 1))\n",
    "    return actions\n",
    "\n",
    "\n",
    "\n",
    "def do_action(state: State, action: 'Action') -> State:\n",
    "    new_board = state.board.copy()\n",
    "    new_board[action.x1, action.y1], new_board[action.x2, action.y2] = new_board[action.x2, action.y2], new_board[action.x1, action.y1]\n",
    "    new_state = State(new_board, state.gn + 1, 0)\n",
    "    #print_board(new_state)\n",
    "    return new_state"
   ]
  },
  {
   "cell_type": "code",
   "execution_count": 252,
   "metadata": {},
   "outputs": [
    {
     "data": {
      "application/vnd.jupyter.widget-view+json": {
       "model_id": "d57e64b2369148d49de90798b8a63af6",
       "version_major": 2,
       "version_minor": 0
      },
      "text/plain": [
       "Randomizing:   0%|          | 0/100000 [00:00<?, ?it/s]"
      ]
     },
     "metadata": {},
     "output_type": "display_data"
    },
    {
     "name": "stdout",
     "output_type": "stream",
     "text": [
      "[[5 1 6]\n",
      " [4 3 8]\n",
      " [0 2 7]]\n"
     ]
    }
   ],
   "source": [
    "RANDOMIZE_STEPS = 100_000\n",
    "state = State(np.array([i for i in range(1, PUZZLE_DIM**2)] + [0]).reshape((PUZZLE_DIM, PUZZLE_DIM)),0,0)\n",
    "#print_board(state)\n",
    "for r in tqdm(range(RANDOMIZE_STEPS), desc='Randomizing'):\n",
    "    state = do_action(state, choice(available_actions(state)))\n",
    "print_board(state)"
   ]
  },
  {
   "cell_type": "code",
   "execution_count": 253,
   "metadata": {},
   "outputs": [
    {
     "data": {
      "text/plain": [
       "np.int64(12)"
      ]
     },
     "execution_count": 253,
     "metadata": {},
     "output_type": "execute_result"
    }
   ],
   "source": [
    "def compute_hcost_manhattan(state: State) -> int:\n",
    "    board = state.board\n",
    "    board = np.resize(board, (PUZZLE_DIM, PUZZLE_DIM))\n",
    "    distance = 0\n",
    "    solution = np.resize(SOLUTION, (PUZZLE_DIM, PUZZLE_DIM))\n",
    "    for i in range(PUZZLE_DIM):\n",
    "        for j in range(PUZZLE_DIM):\n",
    "            if board[i, j] == 0:\n",
    "                continue\n",
    "            ii = np.where(solution == board[i, j])\n",
    "            x= ii[0][0]\n",
    "            y= ii[1][0]\n",
    "            x, y = divmod(board[i, j] - 1, PUZZLE_DIM)\n",
    "            distance += abs(x - i) + abs(y - j)\n",
    "    return distance\n",
    "\n",
    "compute_hcost_manhattan(state)"
   ]
  },
  {
   "cell_type": "code",
   "execution_count": null,
   "metadata": {},
   "outputs": [
    {
     "ename": "AttributeError",
     "evalue": "'list' object has no attribute 'board'",
     "output_type": "error",
     "traceback": [
      "\u001b[1;31m---------------------------------------------------------------------------\u001b[0m",
      "\u001b[1;31mAttributeError\u001b[0m                            Traceback (most recent call last)",
      "Cell \u001b[1;32mIn[254], line 34\u001b[0m\n\u001b[0;32m     31\u001b[0m             print_board(current)\n\u001b[0;32m     32\u001b[0m         \u001b[38;5;28;01mreturn\u001b[39;00m current, total_cost\n\u001b[1;32m---> 34\u001b[0m solution, cost \u001b[38;5;241m=\u001b[39m \u001b[43mA_star_search\u001b[49m\u001b[43m(\u001b[49m\u001b[43mstate\u001b[49m\u001b[43m)\u001b[49m\n\u001b[0;32m     35\u001b[0m print_board(solution)\n",
      "Cell \u001b[1;32mIn[254], line 18\u001b[0m, in \u001b[0;36mA_star_search\u001b[1;34m(initial_state)\u001b[0m\n\u001b[0;32m     16\u001b[0m new_state \u001b[38;5;241m=\u001b[39m do_action(current, action)\n\u001b[0;32m     17\u001b[0m new_state\u001b[38;5;241m.\u001b[39mfn \u001b[38;5;241m=\u001b[39m compute_hcost_manhattan(new_state)\n\u001b[1;32m---> 18\u001b[0m \u001b[38;5;28;01mif\u001b[39;00m (new_state\u001b[38;5;241m.\u001b[39mboard, new_state\u001b[38;5;241m.\u001b[39mgn) \u001b[38;5;129;01min\u001b[39;00m (\u001b[43mvisited\u001b[49m\u001b[38;5;241;43m.\u001b[39;49m\u001b[43mboard\u001b[49m, visited\u001b[38;5;241m.\u001b[39mgn):\n\u001b[0;32m     19\u001b[0m     \u001b[38;5;28;01mcontinue\u001b[39;00m\n\u001b[0;32m     20\u001b[0m \u001b[38;5;28;01melse\u001b[39;00m:\n",
      "\u001b[1;31mAttributeError\u001b[0m: 'list' object has no attribute 'board'"
     ]
    }
   ],
   "source": [
    "def A_star_search(initial_state: State):\n",
    "    initial_state.fn = compute_hcost_manhattan(initial_state)\n",
    "    frontier = [initial_state]\n",
    "    visited = []\n",
    "    total_cost=1\n",
    "    i=0\n",
    "    score = 0\n",
    "    while frontier:\n",
    "        current = min(frontier, key=lambda x: x.fn)\n",
    "        if np.array_equal(current.board, SOLUTION):\n",
    "            return current, total_cost\n",
    "        \n",
    "        frontier.remove(current)\n",
    "        visited.append(current)\n",
    "        for action in available_actions(current):\n",
    "            new_state = do_action(current, action)\n",
    "            new_state.fn = compute_hcost_manhattan(new_state)\n",
    "       \n",
    "        i+=1\n",
    "        if i%300==0:\n",
    "            print(i)\n",
    "            print_board(current)\n",
    "        return current, total_cost\n",
    "\n",
    "solution, cost = A_star_search(state)\n",
    "print_board(solution)"
   ]
  }
 ],
 "metadata": {
  "kernelspec": {
   "display_name": "venv",
   "language": "python",
   "name": "python3"
  },
  "language_info": {
   "codemirror_mode": {
    "name": "ipython",
    "version": 3
   },
   "file_extension": ".py",
   "mimetype": "text/x-python",
   "name": "python",
   "nbconvert_exporter": "python",
   "pygments_lexer": "ipython3",
   "version": "3.12.0"
  }
 },
 "nbformat": 4,
 "nbformat_minor": 2
}
