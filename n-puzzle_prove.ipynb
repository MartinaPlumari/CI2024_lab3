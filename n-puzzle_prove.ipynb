{
 "cells": [
  {
   "cell_type": "code",
   "execution_count": 447,
   "metadata": {},
   "outputs": [],
   "source": [
    "from random import choice\n",
    "from tqdm.auto import tqdm\n",
    "import numpy as np\n",
    "from dataclasses import dataclass\n",
    "import heapq"
   ]
  },
  {
   "cell_type": "code",
   "execution_count": 448,
   "metadata": {},
   "outputs": [
    {
     "name": "stdout",
     "output_type": "stream",
     "text": [
      "[1 2 3 4 5 6 7 8 0]\n"
     ]
    }
   ],
   "source": [
    "#initial settings\n",
    "PUZZLE_DIM = 3\n",
    "#action = namedtuple('Action', ['pos1', 'pos2'])\n",
    "SOLUTION = np.array([n+1 for n in range(PUZZLE_DIM*PUZZLE_DIM)])\n",
    "SOLUTION[-1] = 0\n",
    "puzzle = SOLUTION[:]\n",
    "print(SOLUTION)"
   ]
  },
  {
   "cell_type": "code",
   "execution_count": null,
   "metadata": {},
   "outputs": [],
   "source": [
    "\n",
    "#utility functions and structures\n",
    "\n",
    "#T = TypeVar('T')\n",
    "\n",
    "@dataclass\n",
    "class State:\n",
    "    board: np.array\n",
    "    gn: int = 0\n",
    "    fn: int = np.inf\n",
    "    #priority: int = np.inf\n",
    "    __eq__ = lambda self, other: (np.array_equal(self.board, other.board)) #and self.gn == other.gn)\n",
    "    __lt__ = lambda self, other: np.random.choice([True, False]) if self.fn == other.fn else self.fn < other.fn\n",
    "    \n",
    "@dataclass\n",
    "class Action:\n",
    "    x1: int\n",
    "    y1: int\n",
    "    x2: int\n",
    "    y2: int\n",
    "\n",
    "class PriorityQueue:\n",
    "    #initializes the queue as a heap queue\n",
    "    def __init__(self):\n",
    "        self.elements: list[tuple[float, State]] = []\n",
    "    \n",
    "    def empty(self) -> bool:\n",
    "        return not self.elements\n",
    "    \n",
    "    def put(self, x: State, priority: float):\n",
    "        heapq.heappush(self.elements, (priority, x))\n",
    "        \n",
    "    def get(self) -> State:\n",
    "        return heapq.heappop(self.elements)[1]\n",
    "\n",
    "def print_board(state: State):\n",
    "    state = state.board\n",
    "    matrix = np.resize(state, (PUZZLE_DIM, PUZZLE_DIM))\n",
    "    print(matrix)"
   ]
  },
  {
   "cell_type": "code",
   "execution_count": 450,
   "metadata": {},
   "outputs": [],
   "source": [
    "def available_actions(state: State) -> list['Action']:\n",
    "    #find the empty tile\n",
    "    board = state.board\n",
    "    board = np.resize(board, (PUZZLE_DIM, PUZZLE_DIM))\n",
    "    ii = np.where(board == 0)\n",
    "    x= ii[0][0]\n",
    "    y= ii[1][0]\n",
    "    #print(x,y)\n",
    "    #print_board (state)\n",
    "    actions = list()\n",
    "    if x > 0:\n",
    "        actions.append(Action(x, y, x - 1, y))\n",
    "    if x < PUZZLE_DIM - 1:\n",
    "        actions.append(Action(x, y, x + 1, y))\n",
    "    if y > 0:\n",
    "        actions.append(Action(x, y, x, y - 1))\n",
    "    if y < PUZZLE_DIM - 1:\n",
    "        actions.append(Action(x, y, x, y + 1))\n",
    "    return actions\n",
    "\n",
    "\n",
    "\n",
    "def do_action(state: State, action: 'Action') -> State:\n",
    "    new_board = state.board.copy()\n",
    "    new_board[action.x1, action.y1], new_board[action.x2, action.y2] = new_board[action.x2, action.y2], new_board[action.x1, action.y1]\n",
    "    new_state = State(new_board, state.gn + 1, 0)\n",
    "    #print_board(new_state)\n",
    "    return new_state"
   ]
  },
  {
   "cell_type": "code",
   "execution_count": 451,
   "metadata": {},
   "outputs": [
    {
     "data": {
      "application/vnd.jupyter.widget-view+json": {
       "model_id": "01977e271b4640da81c2de1e47e00c98",
       "version_major": 2,
       "version_minor": 0
      },
      "text/plain": [
       "Randomizing:   0%|          | 0/100000 [00:00<?, ?it/s]"
      ]
     },
     "metadata": {},
     "output_type": "display_data"
    },
    {
     "name": "stdout",
     "output_type": "stream",
     "text": [
      "[[5 6 7]\n",
      " [8 4 3]\n",
      " [2 1 0]]\n"
     ]
    }
   ],
   "source": [
    "RANDOMIZE_STEPS = 100000\n",
    "state = State(np.array([i for i in range(1, PUZZLE_DIM**2)] + [0]).reshape((PUZZLE_DIM, PUZZLE_DIM)),0,0)\n",
    "#print_board(state)\n",
    "for r in tqdm(range(RANDOMIZE_STEPS), desc='Randomizing'):\n",
    "    state = do_action(state, choice(available_actions(state)))\n",
    "print_board(state)"
   ]
  },
  {
   "cell_type": "code",
   "execution_count": 452,
   "metadata": {},
   "outputs": [
    {
     "data": {
      "text/plain": [
       "np.int64(18)"
      ]
     },
     "execution_count": 452,
     "metadata": {},
     "output_type": "execute_result"
    }
   ],
   "source": [
    "def compute_hcost_manhattan(state: State) -> int:\n",
    "    board = state.board\n",
    "    board = np.resize(board, (PUZZLE_DIM, PUZZLE_DIM))\n",
    "    distance = 0\n",
    "    solution = np.resize(SOLUTION, (PUZZLE_DIM, PUZZLE_DIM))\n",
    "    for i in range(PUZZLE_DIM):\n",
    "        for j in range(PUZZLE_DIM):\n",
    "            if board[i, j] == 0:\n",
    "                continue\n",
    "            ii = np.where(solution == board[i, j])\n",
    "            x= ii[0][0]\n",
    "            y= ii[1][0]\n",
    "            x, y = divmod(board[i, j] - 1, PUZZLE_DIM)\n",
    "            distance += abs(x - i) + abs(y - j)\n",
    "    return distance\n",
    "\n",
    "compute_hcost_manhattan(state)"
   ]
  },
  {
   "cell_type": "code",
   "execution_count": 453,
   "metadata": {},
   "outputs": [
    {
     "name": "stdout",
     "output_type": "stream",
     "text": [
      "[[1 2 3]\n",
      " [4 5 6]\n",
      " [7 8 0]]\n",
      "[[5 6 7]\n",
      " [8 4 3]\n",
      " [2 1 0]]\n"
     ]
    },
    {
     "data": {
      "text/plain": [
       "True"
      ]
     },
     "execution_count": 453,
     "metadata": {},
     "output_type": "execute_result"
    }
   ],
   "source": [
    "prova_heap = PriorityQueue()\n",
    "best = State(SOLUTION, 0,0)\n",
    "prova_heap.put(state, state.gn+compute_hcost_manhattan(state))\n",
    "prova_heap.put(best, best.gn + compute_hcost_manhattan(best))\n",
    "\n",
    "primo = prova_heap.get()\n",
    "print_board(primo)\n",
    "secondo = prova_heap.get()\n",
    "print_board(secondo)\n",
    "secondo.gn\n",
    "\n",
    "stato_prova = State(np.array([1, 2, 3, 4, 5, 6, 7, 8, 0]), 0, 0)\n",
    "np.array_equal(stato_prova.board, SOLUTION)"
   ]
  },
  {
   "cell_type": "code",
   "execution_count": 454,
   "metadata": {},
   "outputs": [],
   "source": [
    "\n",
    "def A_star_search(initial_state: State):\n",
    "    \n",
    "    solution = np.resize(SOLUTION, (PUZZLE_DIM, PUZZLE_DIM))\n",
    "    initial_state.gn = 0\n",
    "    initial_state.fn = compute_hcost_manhattan(initial_state)\n",
    "    frontier = PriorityQueue()\n",
    "    frontier.put(initial_state, initial_state.fn)\n",
    "    visited = list()\n",
    "    \n",
    "    total_cost=1\n",
    "    path_steps = 1\n",
    "    \n",
    "    i=0\n",
    "    while not frontier.empty():\n",
    "        \n",
    "        #take the state with the lowest fscore from the frontier\n",
    "        current = frontier.get()\n",
    "        \n",
    "        #goal test\n",
    "        if np.array_equal(current.board, solution):\n",
    "            return current, total_cost, path_steps\n",
    "\n",
    "        for action in available_actions(current):\n",
    "            #implicitly calculates gn for the new state in the do action\n",
    "            new_state = do_action(current, action)\n",
    "            new_state.fn = new_state.gn + compute_hcost_manhattan(new_state)\n",
    "            total_cost+=1\n",
    "\n",
    "            in_frontier = False\n",
    "            for state in frontier.elements:\n",
    "                if np.array_equal(state[1].board, new_state.board) and new_state.gn < state[1].gn:\n",
    "                    in_frontier = True\n",
    "                    state[1].gn = new_state.gn\n",
    "                    break\n",
    "            if not in_frontier and new_state not in visited:\n",
    "                frontier.put(new_state, new_state.fn)\n",
    "          \n",
    "        visited.append(current)                 \n",
    "        path_steps+=1\n",
    "        \n",
    "        # i+1\n",
    "        # if i%500 == 0:\n",
    "        #     print_board(current)\n",
    "        #     print('Current manhattan distance:', current.fn - current.gn)\n",
    "        \n",
    "    return current, total_cost, path_steps\n"
   ]
  },
  {
   "cell_type": "code",
   "execution_count": 455,
   "metadata": {},
   "outputs": [
    {
     "name": "stdout",
     "output_type": "stream",
     "text": [
      "=== INITIAL STATE ===\n",
      "[[0 1 6]\n",
      " [3 8 7]\n",
      " [4 5 2]]\n",
      "=== SOLUTION FOUND ===\n",
      "[[1 2 3]\n",
      " [4 5 6]\n",
      " [7 8 0]]\n",
      "cost:  2581\n",
      "path_steps:  967\n"
     ]
    }
   ],
   "source": [
    "state = State(np.array([0,1,6,3,8,7,4,5,2]), 0, 0)\n",
    "state.board = np.resize(state.board, (PUZZLE_DIM, PUZZLE_DIM))\n",
    "\n",
    "print(\"=== INITIAL STATE ===\")\n",
    "print_board(state)\n",
    "\n",
    "solution, cost, path_steps = A_star_search(state)\n",
    "print(\"=== SOLUTION FOUND ===\")\n",
    "print_board(solution)\n",
    "print(\"cost: \", cost)\n",
    "print(\"path_steps: \", path_steps)"
   ]
  }
 ],
 "metadata": {
  "kernelspec": {
   "display_name": "venv",
   "language": "python",
   "name": "python3"
  },
  "language_info": {
   "codemirror_mode": {
    "name": "ipython",
    "version": 3
   },
   "file_extension": ".py",
   "mimetype": "text/x-python",
   "name": "python",
   "nbconvert_exporter": "python",
   "pygments_lexer": "ipython3",
   "version": "3.12.0"
  }
 },
 "nbformat": 4,
 "nbformat_minor": 2
}
